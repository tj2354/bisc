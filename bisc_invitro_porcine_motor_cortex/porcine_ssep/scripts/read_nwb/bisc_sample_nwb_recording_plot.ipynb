{
 "cells": [
  {
   "cell_type": "markdown",
   "metadata": {},
   "source": [
    "This notebook is a standalone script that plots sample BISC recordings in NWB format <br><br>\n",
    "The provided NWB data is from a porcine SSEP study. In this study,\n",
    "- Medial region of the subject's snout was electrically stimulated using clinical EEG\n",
    "- BISC implant recorded from the subdural space, over the sensorimotor cortex of the subject\n",
    "\n",
    "The nwb files we provide contain the following: <br>\n",
    "- Metadata of the experiment\n",
    "- Raw BISC recording (`ElectricalSeries`) from 16x16 channels at 33.9kS/s per channel\n",
    "- Three EEG pulse train (`EEG output pulses`):\n",
    "    - One pulse to stimulate the porcine subject\n",
    "    - Two pulses to provide synchronization between EEG machine and BISC system\n",
    "\n",
    "Please refer to Part 2 of this script for more information about `ElectricalSeries` and `EEG output pulses`\n",
    "\n",
    "This script requires `pynwb` package which can be installed by invoking: `$ pip install -U pynwb` <br>\n",
    "This script was created based on based on PyNBW tutorial in this [Link](https://nwb-overview.readthedocs.io/en/latest/conversion_tutorial/03_nwb_apis.html) <br>\n",
    "\n",
    "Please define the file path in `nwb_file_defs.py` prior to running the notebook"
   ]
  },
  {
   "cell_type": "code",
   "execution_count": 16,
   "metadata": {},
   "outputs": [],
   "source": [
    "import os\n",
    "import numpy as np\n",
    "from matplotlib import pyplot as plt\n",
    "\n",
    "from pynwb import NWBHDF5IO"
   ]
  },
  {
   "cell_type": "code",
   "execution_count": 17,
   "metadata": {},
   "outputs": [],
   "source": [
    "\"\"\" Load NWB \"\"\"\n",
    "# Change the string below to the path of the file on your computer\n",
    "\n",
    "from nwb_file_defs import load_dir, filename\n",
    "\n",
    "filepath = os.path.join(load_dir, filename)\n",
    "io = NWBHDF5IO(filepath, 'r')  # open the file in read mode 'r'\n",
    "nwb = io.read()"
   ]
  },
  {
   "cell_type": "markdown",
   "metadata": {},
   "source": [
    "##### Part 1. Print Metadata"
   ]
  },
  {
   "cell_type": "code",
   "execution_count": 18,
   "metadata": {},
   "outputs": [
    {
     "data": {
      "text/html": [
       "\n",
       "        <style>\n",
       "            .container-fields {\n",
       "                font-family: \"Open Sans\", Arial, sans-serif;\n",
       "            }\n",
       "            .container-fields .field-value {\n",
       "                color: #00788E;\n",
       "            }\n",
       "            .container-fields details > summary {\n",
       "                cursor: pointer;\n",
       "                display: list-item;\n",
       "            }\n",
       "            .container-fields details > summary:hover {\n",
       "                color: #0A6EAA;\n",
       "            }\n",
       "        </style>\n",
       "        \n",
       "        <script>\n",
       "            function copyToClipboard(text) {\n",
       "                navigator.clipboard.writeText(text).then(function() {\n",
       "                    console.log('Copied to clipboard: ' + text);\n",
       "                }, function(err) {\n",
       "                    console.error('Could not copy text: ', err);\n",
       "                });\n",
       "            }\n",
       "\n",
       "            document.addEventListener('DOMContentLoaded', function() {\n",
       "                let fieldKeys = document.querySelectorAll('.container-fields .field-key');\n",
       "                fieldKeys.forEach(function(fieldKey) {\n",
       "                    fieldKey.addEventListener('click', function() {\n",
       "                        let accessCode = fieldKey.getAttribute('title').replace('Access code: ', '');\n",
       "                        copyToClipboard(accessCode);\n",
       "                    });\n",
       "                });\n",
       "            });\n",
       "        </script>\n",
       "        <div class='container-wrap'><div class='container-header'><div class='xr-obj-type'><h3>root (NWBFile)</h3></div></div><div style=\"margin-left: 0px;\" class=\"container-fields\"><span class=\"field-key\" title=\".session_description\">session_description: </span><span class=\"field-value\">Porcine SSEP Recording</span></div><div style=\"margin-left: 0px;\" class=\"container-fields\"><span class=\"field-key\" title=\".identifier\">identifier: </span><span class=\"field-value\">Native BISC Pig Subject No. 3</span></div><details><summary style=\"display: list-item; margin-left: 0px;\" class=\"container-fields field-key\" title=\".session_start_time\"><b>session_start_time</b></summary><span class=\"field-key\">2023-10-18 12:45:08-04:00</span></details><details><summary style=\"display: list-item; margin-left: 0px;\" class=\"container-fields field-key\" title=\".timestamps_reference_time\"><b>timestamps_reference_time</b></summary><span class=\"field-key\">2023-10-18 12:45:08-04:00</span></details><details><summary style=\"display: list-item; margin-left: 0px;\" class=\"container-fields field-key\" title=\".file_create_date\"><b>file_create_date</b></summary><details><summary style=\"display: list-item; margin-left: 20px;\" class=\"container-fields field-key\" title=\".file_create_date[0]\"><b>0</b></summary><span class=\"field-key\">2024-12-31 21:03:18.575827-08:00</span></details></details><details><summary style=\"display: list-item; margin-left: 0px;\" class=\"container-fields field-key\" title=\".experimenter\"><b>experimenter</b></summary><span class=\"field-key\">('Taesung Jung', 'Nanyu Zeng', 'Ian Gonzales', 'Brett Youngerman', 'Kenneth Shepard')</span></details><details><summary style=\"display: list-item; margin-left: 0px;\" class=\"container-fields field-key\" title=\".related_publications\"><b>related_publications</b></summary><span class=\"field-key\">('doi: 10.1101/2024.05.17.594333',)</span></details><details><summary style=\"display: list-item; margin-left: 0px;\" class=\"container-fields field-key\" title=\".acquisition\"><b>acquisition</b></summary><details><summary style=\"display: list-item; margin-left: 20px;\" class=\"container-fields field-key\" title=\".acquisition['EEG output pulses']\"><b>EEG output pulses</b></summary><div style=\"margin-left: 40px;\" class=\"container-fields\"><span class=\"field-key\" title=\".acquisition['EEG output pulses'].starting_time\">starting_time: </span><span class=\"field-value\">0.0</span></div><div style=\"margin-left: 40px;\" class=\"container-fields\"><span class=\"field-key\" title=\".acquisition['EEG output pulses'].rate\">rate: </span><span class=\"field-value\">33900.0</span></div><div style=\"margin-left: 40px;\" class=\"container-fields\"><span class=\"field-key\" title=\".acquisition['EEG output pulses'].resolution\">resolution: </span><span class=\"field-value\">-1.0</span></div><div style=\"margin-left: 40px;\" class=\"container-fields\"><span class=\"field-key\" title=\".acquisition['EEG output pulses'].comments\">comments: </span><span class=\"field-value\">no comments</span></div><div style=\"margin-left: 40px;\" class=\"container-fields\"><span class=\"field-key\" title=\".acquisition['EEG output pulses'].description\">description: </span><span class=\"field-value\">no description</span></div><div style=\"margin-left: 40px;\" class=\"container-fields\"><span class=\"field-key\" title=\".acquisition['EEG output pulses'].conversion\">conversion: </span><span class=\"field-value\">1.0</span></div><div style=\"margin-left: 40px;\" class=\"container-fields\"><span class=\"field-key\" title=\".acquisition['EEG output pulses'].offset\">offset: </span><span class=\"field-value\">0.0</span></div><div style=\"margin-left: 40px;\" class=\"container-fields\"><span class=\"field-key\" title=\".acquisition['EEG output pulses'].unit\">unit: </span><span class=\"field-value\">see 'feature_units'</span></div><details><summary style=\"display: list-item; margin-left: 40px;\" class=\"container-fields field-key\" title=\".acquisition['EEG output pulses'].data\"><b>data</b></summary><div style=\"margin-left: 60px;\" class=\"container-fields\">HDF5 dataset<br><table class=\"data-info\"><tbody><tr><th style=\"text-align: left\">Data type</th><td style=\"text-align: left\">float64</td></tr><tr><th style=\"text-align: left\">Shape</th><td style=\"text-align: left\">(3, 123361)</td></tr><tr><th style=\"text-align: left\">Array size</th><td style=\"text-align: left\">2.82 MiB</td></tr><tr><th style=\"text-align: left\">Chunk shape</th><td style=\"text-align: left\">None</td></tr><tr><th style=\"text-align: left\">Compression</th><td style=\"text-align: left\">None</td></tr><tr><th style=\"text-align: left\">Compression opts</th><td style=\"text-align: left\">None</td></tr><tr><th style=\"text-align: left\">Compression ratio</th><td style=\"text-align: left\">1.0</td></tr></tbody></table></div></details><div style=\"margin-left: 40px;\" class=\"container-fields\"><span class=\"field-key\" title=\".acquisition['EEG output pulses'].starting_time_unit\">starting_time_unit: </span><span class=\"field-value\">seconds</span></div><details><summary style=\"display: list-item; margin-left: 40px;\" class=\"container-fields field-key\" title=\".acquisition['EEG output pulses'].features\"><b>features</b></summary><div style=\"margin-left: 60px;\" class=\"container-fields\">HDF5 dataset<br><table class=\"data-info\"><tbody><tr><th style=\"text-align: left\">Data type</th><td style=\"text-align: left\">object</td></tr><tr><th style=\"text-align: left\">Shape</th><td style=\"text-align: left\">(3,)</td></tr><tr><th style=\"text-align: left\">Array size</th><td style=\"text-align: left\">24.00 bytes</td></tr><tr><th style=\"text-align: left\">Chunk shape</th><td style=\"text-align: left\">None</td></tr><tr><th style=\"text-align: left\">Compression</th><td style=\"text-align: left\">None</td></tr><tr><th style=\"text-align: left\">Compression opts</th><td style=\"text-align: left\">None</td></tr><tr><th style=\"text-align: left\">Compression ratio</th><td style=\"text-align: left\">0.5</td></tr></tbody></table><br>[b'medial snout EEG stim' b'EEG sync-induced artifact captured'\n",
       " b'EEG sync to BISC relay station']</div></details><details><summary style=\"display: list-item; margin-left: 40px;\" class=\"container-fields field-key\" title=\".acquisition['EEG output pulses'].feature_units\"><b>feature_units</b></summary><div style=\"margin-left: 60px;\" class=\"container-fields\">HDF5 dataset<br><table class=\"data-info\"><tbody><tr><th style=\"text-align: left\">Data type</th><td style=\"text-align: left\">object</td></tr><tr><th style=\"text-align: left\">Shape</th><td style=\"text-align: left\">(3,)</td></tr><tr><th style=\"text-align: left\">Array size</th><td style=\"text-align: left\">24.00 bytes</td></tr><tr><th style=\"text-align: left\">Chunk shape</th><td style=\"text-align: left\">None</td></tr><tr><th style=\"text-align: left\">Compression</th><td style=\"text-align: left\">None</td></tr><tr><th style=\"text-align: left\">Compression opts</th><td style=\"text-align: left\">None</td></tr><tr><th style=\"text-align: left\">Compression ratio</th><td style=\"text-align: left\">0.5</td></tr></tbody></table><br>[b'mA' b'unitless' b'unitless']</div></details></details><details><summary style=\"display: list-item; margin-left: 20px;\" class=\"container-fields field-key\" title=\".acquisition['ElectricalSeries']\"><b>ElectricalSeries</b></summary><div style=\"margin-left: 40px;\" class=\"container-fields\"><span class=\"field-key\" title=\".acquisition['ElectricalSeries'].starting_time\">starting_time: </span><span class=\"field-value\">0.0</span></div><div style=\"margin-left: 40px;\" class=\"container-fields\"><span class=\"field-key\" title=\".acquisition['ElectricalSeries'].rate\">rate: </span><span class=\"field-value\">33900.0</span></div><div style=\"margin-left: 40px;\" class=\"container-fields\"><span class=\"field-key\" title=\".acquisition['ElectricalSeries'].resolution\">resolution: </span><span class=\"field-value\">-1.0</span></div><div style=\"margin-left: 40px;\" class=\"container-fields\"><span class=\"field-key\" title=\".acquisition['ElectricalSeries'].comments\">comments: </span><span class=\"field-value\">no comments</span></div><div style=\"margin-left: 40px;\" class=\"container-fields\"><span class=\"field-key\" title=\".acquisition['ElectricalSeries'].description\">description: </span><span class=\"field-value\">Raw acquisition traces</span></div><div style=\"margin-left: 40px;\" class=\"container-fields\"><span class=\"field-key\" title=\".acquisition['ElectricalSeries'].conversion\">conversion: </span><span class=\"field-value\">1.0</span></div><div style=\"margin-left: 40px;\" class=\"container-fields\"><span class=\"field-key\" title=\".acquisition['ElectricalSeries'].offset\">offset: </span><span class=\"field-value\">0.0</span></div><div style=\"margin-left: 40px;\" class=\"container-fields\"><span class=\"field-key\" title=\".acquisition['ElectricalSeries'].unit\">unit: </span><span class=\"field-value\">volts</span></div><details><summary style=\"display: list-item; margin-left: 40px;\" class=\"container-fields field-key\" title=\".acquisition['ElectricalSeries'].data\"><b>data</b></summary><div style=\"margin-left: 60px;\" class=\"container-fields\">HDF5 dataset<br><table class=\"data-info\"><tbody><tr><th style=\"text-align: left\">Data type</th><td style=\"text-align: left\">float32</td></tr><tr><th style=\"text-align: left\">Shape</th><td style=\"text-align: left\">(123361, 256)</td></tr><tr><th style=\"text-align: left\">Array size</th><td style=\"text-align: left\">120.47 MiB</td></tr><tr><th style=\"text-align: left\">Chunk shape</th><td style=\"text-align: left\">None</td></tr><tr><th style=\"text-align: left\">Compression</th><td style=\"text-align: left\">None</td></tr><tr><th style=\"text-align: left\">Compression opts</th><td style=\"text-align: left\">None</td></tr><tr><th style=\"text-align: left\">Compression ratio</th><td style=\"text-align: left\">1.0</td></tr></tbody></table></div></details><div style=\"margin-left: 40px;\" class=\"container-fields\"><span class=\"field-key\" title=\".acquisition['ElectricalSeries'].starting_time_unit\">starting_time_unit: </span><span class=\"field-value\">seconds</span></div><details><summary style=\"display: list-item; margin-left: 40px;\" class=\"container-fields field-key\" title=\".acquisition['ElectricalSeries'].electrodes\"><b>electrodes</b></summary><div style=\"margin-left: 60px;\" class=\"container-fields\"><span class=\"field-key\" title=\".acquisition['ElectricalSeries'].electrodes.description\">description: </span><span class=\"field-value\">all electrodes</span></div><details><summary style=\"display: list-item; margin-left: 60px;\" class=\"container-fields field-key\" title=\".acquisition['ElectricalSeries'].electrodes.table\"><b>table</b></summary><div style=\"margin-left: 80px;\" class=\"container-fields\"><span class=\"field-key\" title=\".acquisition['ElectricalSeries'].electrodes.table\">description: </span><span class=\"field-value\">metadata about extracellular electrodes</span></div><details><summary style=\"display: list-item; margin-left: 80px;\" class=\"container-fields field-key\" title=\".acquisition['ElectricalSeries'].electrodes.table\"><b>table</b></summary><table border=\"1\" class=\"dataframe\">\n",
       "  <thead>\n",
       "    <tr style=\"text-align: right;\">\n",
       "      <th></th>\n",
       "      <th>location</th>\n",
       "      <th>group</th>\n",
       "      <th>group_name</th>\n",
       "      <th>rel_x</th>\n",
       "      <th>rel_z</th>\n",
       "      <th>reference</th>\n",
       "    </tr>\n",
       "    <tr>\n",
       "      <th>id</th>\n",
       "      <th></th>\n",
       "      <th></th>\n",
       "      <th></th>\n",
       "      <th></th>\n",
       "      <th></th>\n",
       "      <th></th>\n",
       "    </tr>\n",
       "  </thead>\n",
       "  <tbody>\n",
       "    <tr>\n",
       "      <th>0</th>\n",
       "      <td>(row, col) = (0, 0)</td>\n",
       "      <td>BISC native array pynwb.ecephys.ElectrodeGroup at 0x2892604916832\\nFields:\\n  description: 16x16 channels, 8x8 striding\\n  device: BISC native array pynwb.device.Device at 0x2892604917168\\nFields:\\n  description: 256 by 256 electrodes. Size 14*14 um^2, Pitch: 26.5 um by 29 um\\n  manufacturer: post-processed in-house by Jason and Taesung at Columbia University\\n\\n  location: sensorimotor cortex\\n</td>\n",
       "      <td>BISC native array</td>\n",
       "      <td>0.0</td>\n",
       "      <td>0.0</td>\n",
       "      <td>global counter</td>\n",
       "    </tr>\n",
       "    <tr>\n",
       "      <th>1</th>\n",
       "      <td>(row, col) = (0, 1)</td>\n",
       "      <td>BISC native array pynwb.ecephys.ElectrodeGroup at 0x2892604916832\\nFields:\\n  description: 16x16 channels, 8x8 striding\\n  device: BISC native array pynwb.device.Device at 0x2892604917168\\nFields:\\n  description: 256 by 256 electrodes. Size 14*14 um^2, Pitch: 26.5 um by 29 um\\n  manufacturer: post-processed in-house by Jason and Taesung at Columbia University\\n\\n  location: sensorimotor cortex\\n</td>\n",
       "      <td>BISC native array</td>\n",
       "      <td>0.0</td>\n",
       "      <td>424.0</td>\n",
       "      <td>global counter</td>\n",
       "    </tr>\n",
       "    <tr>\n",
       "      <th>2</th>\n",
       "      <td>(row, col) = (0, 2)</td>\n",
       "      <td>BISC native array pynwb.ecephys.ElectrodeGroup at 0x2892604916832\\nFields:\\n  description: 16x16 channels, 8x8 striding\\n  device: BISC native array pynwb.device.Device at 0x2892604917168\\nFields:\\n  description: 256 by 256 electrodes. Size 14*14 um^2, Pitch: 26.5 um by 29 um\\n  manufacturer: post-processed in-house by Jason and Taesung at Columbia University\\n\\n  location: sensorimotor cortex\\n</td>\n",
       "      <td>BISC native array</td>\n",
       "      <td>0.0</td>\n",
       "      <td>848.0</td>\n",
       "      <td>global counter</td>\n",
       "    </tr>\n",
       "    <tr>\n",
       "      <th>3</th>\n",
       "      <td>(row, col) = (0, 3)</td>\n",
       "      <td>BISC native array pynwb.ecephys.ElectrodeGroup at 0x2892604916832\\nFields:\\n  description: 16x16 channels, 8x8 striding\\n  device: BISC native array pynwb.device.Device at 0x2892604917168\\nFields:\\n  description: 256 by 256 electrodes. Size 14*14 um^2, Pitch: 26.5 um by 29 um\\n  manufacturer: post-processed in-house by Jason and Taesung at Columbia University\\n\\n  location: sensorimotor cortex\\n</td>\n",
       "      <td>BISC native array</td>\n",
       "      <td>0.0</td>\n",
       "      <td>1272.0</td>\n",
       "      <td>global counter</td>\n",
       "    </tr>\n",
       "  </tbody>\n",
       "</table><p>... and 252 more rows.</p></details></details></details></details></details><details><summary style=\"display: list-item; margin-left: 0px;\" class=\"container-fields field-key\" title=\".keywords\"><b>keywords</b></summary><div style=\"margin-left: 20px;\" class=\"container-fields\">HDF5 dataset<br><table class=\"data-info\"><tbody><tr><th style=\"text-align: left\">Data type</th><td style=\"text-align: left\">object</td></tr><tr><th style=\"text-align: left\">Shape</th><td style=\"text-align: left\">(4,)</td></tr><tr><th style=\"text-align: left\">Array size</th><td style=\"text-align: left\">32.00 bytes</td></tr><tr><th style=\"text-align: left\">Chunk shape</th><td style=\"text-align: left\">None</td></tr><tr><th style=\"text-align: left\">Compression</th><td style=\"text-align: left\">None</td></tr><tr><th style=\"text-align: left\">Compression opts</th><td style=\"text-align: left\">None</td></tr><tr><th style=\"text-align: left\">Compression ratio</th><td style=\"text-align: left\">0.5</td></tr></tbody></table><br>[b'ecephys' b'porcine' b'ssep' b'bisc']</div></details><details><summary style=\"display: list-item; margin-left: 0px;\" class=\"container-fields field-key\" title=\".electrodes\"><b>electrodes</b></summary><div style=\"margin-left: 20px;\" class=\"container-fields\"><span class=\"field-key\" title=\".electrodes\">description: </span><span class=\"field-value\">metadata about extracellular electrodes</span></div><details><summary style=\"display: list-item; margin-left: 20px;\" class=\"container-fields field-key\" title=\".electrodes\"><b>table</b></summary><table border=\"1\" class=\"dataframe\">\n",
       "  <thead>\n",
       "    <tr style=\"text-align: right;\">\n",
       "      <th></th>\n",
       "      <th>location</th>\n",
       "      <th>group</th>\n",
       "      <th>group_name</th>\n",
       "      <th>rel_x</th>\n",
       "      <th>rel_z</th>\n",
       "      <th>reference</th>\n",
       "    </tr>\n",
       "    <tr>\n",
       "      <th>id</th>\n",
       "      <th></th>\n",
       "      <th></th>\n",
       "      <th></th>\n",
       "      <th></th>\n",
       "      <th></th>\n",
       "      <th></th>\n",
       "    </tr>\n",
       "  </thead>\n",
       "  <tbody>\n",
       "    <tr>\n",
       "      <th>0</th>\n",
       "      <td>(row, col) = (0, 0)</td>\n",
       "      <td>BISC native array pynwb.ecephys.ElectrodeGroup at 0x2892604916832\\nFields:\\n  description: 16x16 channels, 8x8 striding\\n  device: BISC native array pynwb.device.Device at 0x2892604917168\\nFields:\\n  description: 256 by 256 electrodes. Size 14*14 um^2, Pitch: 26.5 um by 29 um\\n  manufacturer: post-processed in-house by Jason and Taesung at Columbia University\\n\\n  location: sensorimotor cortex\\n</td>\n",
       "      <td>BISC native array</td>\n",
       "      <td>0.0</td>\n",
       "      <td>0.0</td>\n",
       "      <td>global counter</td>\n",
       "    </tr>\n",
       "    <tr>\n",
       "      <th>1</th>\n",
       "      <td>(row, col) = (0, 1)</td>\n",
       "      <td>BISC native array pynwb.ecephys.ElectrodeGroup at 0x2892604916832\\nFields:\\n  description: 16x16 channels, 8x8 striding\\n  device: BISC native array pynwb.device.Device at 0x2892604917168\\nFields:\\n  description: 256 by 256 electrodes. Size 14*14 um^2, Pitch: 26.5 um by 29 um\\n  manufacturer: post-processed in-house by Jason and Taesung at Columbia University\\n\\n  location: sensorimotor cortex\\n</td>\n",
       "      <td>BISC native array</td>\n",
       "      <td>0.0</td>\n",
       "      <td>424.0</td>\n",
       "      <td>global counter</td>\n",
       "    </tr>\n",
       "    <tr>\n",
       "      <th>2</th>\n",
       "      <td>(row, col) = (0, 2)</td>\n",
       "      <td>BISC native array pynwb.ecephys.ElectrodeGroup at 0x2892604916832\\nFields:\\n  description: 16x16 channels, 8x8 striding\\n  device: BISC native array pynwb.device.Device at 0x2892604917168\\nFields:\\n  description: 256 by 256 electrodes. Size 14*14 um^2, Pitch: 26.5 um by 29 um\\n  manufacturer: post-processed in-house by Jason and Taesung at Columbia University\\n\\n  location: sensorimotor cortex\\n</td>\n",
       "      <td>BISC native array</td>\n",
       "      <td>0.0</td>\n",
       "      <td>848.0</td>\n",
       "      <td>global counter</td>\n",
       "    </tr>\n",
       "    <tr>\n",
       "      <th>3</th>\n",
       "      <td>(row, col) = (0, 3)</td>\n",
       "      <td>BISC native array pynwb.ecephys.ElectrodeGroup at 0x2892604916832\\nFields:\\n  description: 16x16 channels, 8x8 striding\\n  device: BISC native array pynwb.device.Device at 0x2892604917168\\nFields:\\n  description: 256 by 256 electrodes. Size 14*14 um^2, Pitch: 26.5 um by 29 um\\n  manufacturer: post-processed in-house by Jason and Taesung at Columbia University\\n\\n  location: sensorimotor cortex\\n</td>\n",
       "      <td>BISC native array</td>\n",
       "      <td>0.0</td>\n",
       "      <td>1272.0</td>\n",
       "      <td>global counter</td>\n",
       "    </tr>\n",
       "  </tbody>\n",
       "</table><p>... and 252 more rows.</p></details></details><details><summary style=\"display: list-item; margin-left: 0px;\" class=\"container-fields field-key\" title=\".electrode_groups\"><b>electrode_groups</b></summary><details><summary style=\"display: list-item; margin-left: 20px;\" class=\"container-fields field-key\" title=\".electrode_groups['BISC native array']\"><b>BISC native array</b></summary><div style=\"margin-left: 40px;\" class=\"container-fields\"><span class=\"field-key\" title=\".electrode_groups['BISC native array'].description\">description: </span><span class=\"field-value\">16x16 channels, 8x8 striding</span></div><div style=\"margin-left: 40px;\" class=\"container-fields\"><span class=\"field-key\" title=\".electrode_groups['BISC native array'].location\">location: </span><span class=\"field-value\">sensorimotor cortex</span></div><details><summary style=\"display: list-item; margin-left: 40px;\" class=\"container-fields field-key\" title=\".electrode_groups['BISC native array'].device\"><b>device</b></summary><div style=\"margin-left: 60px;\" class=\"container-fields\"><span class=\"field-key\" title=\".electrode_groups['BISC native array'].device.description\">description: </span><span class=\"field-value\">256 by 256 electrodes. Size 14*14 um^2, Pitch: 26.5 um by 29 um</span></div><div style=\"margin-left: 60px;\" class=\"container-fields\"><span class=\"field-key\" title=\".electrode_groups['BISC native array'].device.manufacturer\">manufacturer: </span><span class=\"field-value\">post-processed in-house by Jason and Taesung at Columbia University</span></div></details></details></details><details><summary style=\"display: list-item; margin-left: 0px;\" class=\"container-fields field-key\" title=\".devices\"><b>devices</b></summary><details><summary style=\"display: list-item; margin-left: 20px;\" class=\"container-fields field-key\" title=\".devices['BISC native array']\"><b>BISC native array</b></summary><div style=\"margin-left: 40px;\" class=\"container-fields\"><span class=\"field-key\" title=\".devices['BISC native array'].description\">description: </span><span class=\"field-value\">256 by 256 electrodes. Size 14*14 um^2, Pitch: 26.5 um by 29 um</span></div><div style=\"margin-left: 40px;\" class=\"container-fields\"><span class=\"field-key\" title=\".devices['BISC native array'].manufacturer\">manufacturer: </span><span class=\"field-value\">post-processed in-house by Jason and Taesung at Columbia University</span></div></details></details><details><summary style=\"display: list-item; margin-left: 0px;\" class=\"container-fields field-key\" title=\".subject\"><b>subject</b></summary><div style=\"margin-left: 20px;\" class=\"container-fields\"><span class=\"field-key\" title=\".subject.age\">age: </span><span class=\"field-value\">P18W</span></div><div style=\"margin-left: 20px;\" class=\"container-fields\"><span class=\"field-key\" title=\".subject.age__reference\">age__reference: </span><span class=\"field-value\">birth</span></div><div style=\"margin-left: 20px;\" class=\"container-fields\"><span class=\"field-key\" title=\".subject.description\">description: </span><span class=\"field-value\">porcine subject</span></div><div style=\"margin-left: 20px;\" class=\"container-fields\"><span class=\"field-key\" title=\".subject.sex\">sex: </span><span class=\"field-value\">F</span></div><div style=\"margin-left: 20px;\" class=\"container-fields\"><span class=\"field-key\" title=\".subject.species\">species: </span><span class=\"field-value\">Yorkshire pig</span></div><div style=\"margin-left: 20px;\" class=\"container-fields\"><span class=\"field-key\" title=\".subject.subject_id\">subject_id: </span><span class=\"field-value\">003</span></div></details><div style=\"margin-left: 0px;\" class=\"container-fields\"><span class=\"field-key\" title=\".experiment_description\">experiment_description: </span><span class=\"field-value\">Somatosensory evoked potential (SSEP) recording in         response to peripheral, subdermal stimulation</span></div><div style=\"margin-left: 0px;\" class=\"container-fields\"><span class=\"field-key\" title=\".institution\">institution: </span><span class=\"field-value\">Columbia University Medical Campus</span></div><div style=\"margin-left: 0px;\" class=\"container-fields\"><span class=\"field-key\" title=\".protocol\">protocol: </span><span class=\"field-value\">IACUC AC-AABQ0559</span></div></div>"
      ],
      "text/plain": [
       "root pynwb.file.NWBFile at 0x2892548565280\n",
       "Fields:\n",
       "  acquisition: {\n",
       "    EEG output pulses <class 'pynwb.misc.AbstractFeatureSeries'>,\n",
       "    ElectricalSeries <class 'pynwb.ecephys.ElectricalSeries'>\n",
       "  }\n",
       "  devices: {\n",
       "    BISC native array <class 'pynwb.device.Device'>\n",
       "  }\n",
       "  electrode_groups: {\n",
       "    BISC native array <class 'pynwb.ecephys.ElectrodeGroup'>\n",
       "  }\n",
       "  electrodes: electrodes <class 'hdmf.common.table.DynamicTable'>\n",
       "  experiment_description: Somatosensory evoked potential (SSEP) recording in         response to peripheral, subdermal stimulation\n",
       "  experimenter: ['Taesung Jung' 'Nanyu Zeng' 'Ian Gonzales' 'Brett Youngerman'\n",
       " 'Kenneth Shepard']\n",
       "  file_create_date: [datetime.datetime(2024, 12, 31, 21, 3, 18, 575827, tzinfo=tzoffset(None, -28800))]\n",
       "  identifier: Native BISC Pig Subject No. 3\n",
       "  institution: Columbia University Medical Campus\n",
       "  keywords: <StrDataset for HDF5 dataset \"keywords\": shape (4,), type \"|O\">\n",
       "  protocol: IACUC AC-AABQ0559\n",
       "  related_publications: ['doi: 10.1101/2024.05.17.594333']\n",
       "  session_description: Porcine SSEP Recording\n",
       "  session_start_time: 2023-10-18 12:45:08-04:00\n",
       "  subject: subject pynwb.file.Subject at 0x2892604916400\n",
       "Fields:\n",
       "  age: P18W\n",
       "  age__reference: birth\n",
       "  description: porcine subject\n",
       "  sex: F\n",
       "  species: Yorkshire pig\n",
       "  subject_id: 003\n",
       "\n",
       "  timestamps_reference_time: 2023-10-18 12:45:08-04:00"
      ]
     },
     "execution_count": 18,
     "metadata": {},
     "output_type": "execute_result"
    }
   ],
   "source": [
    "\"\"\" print NWB \"\"\"\n",
    "nwb"
   ]
  },
  {
   "cell_type": "markdown",
   "metadata": {},
   "source": [
    "##### Part2: Plot Time Series Data"
   ]
  },
  {
   "cell_type": "markdown",
   "metadata": {},
   "source": [
    "The provided files have two types of series data: `ElectricalSeries` and `EEG output pulses`\n",
    "\n",
    "- `ElectricalSeries` is an array of [`time series` x `channels`] that represent the raw voltage recordings from each BISC channel\n",
    "\n",
    "    - `time series` represents the raw *input-referred voltage* of each channel recording at 33.9 kS/s without applying any filtering. Raw input-referred voltages were computed by converting the 10'b digitized output to voltage and dividing by the system gain. Note that saturated samples (values too close to Ground or VDD) have been converted to np.NaN. *Saturation* occurs when the recorded signal amplitude exceeds the dynamic range of our device\n",
    "\n",
    "    - `channels = 256`; the BISC implant was configured to record from 16x16 channels. See NWB nwb.electrodes for more details about the channel locations.\n",
    "\n",
    "- `EEG output pulses` has three lists that represent the time series of signals produced by the EEG machine\n",
    "\n",
    "    - The first list is the electrical stimulation current (mA) that is delivered to the subject's snout\n",
    "    - The second and third lists represent the synchronization pulse train delivered to the BISC relay station. The EEG machine was configured to deliver sync pulses ~50 ms after the electrical stimulation. Note that the sync pulses are captured by the BISC relay station only when the implant is recording, at the same sampling rate of 33.9 kS/s\n",
    "    - Synchronization pulses traveled through physically long wires which created artifacts that are present in BISC implant's neural recordings. To avoid these artifacts from affecting the analysis, segments in [-50, +50) msec w.r.t. the stimulation was used for our paper's analysis"
   ]
  },
  {
   "cell_type": "code",
   "execution_count": 19,
   "metadata": {},
   "outputs": [],
   "source": [
    "# NOTE about nwb.electrodes\n",
    "# Per NWB documentation, x/y/z directions are defined as follows:\n",
    "# x-axis is anterior-posterior (+x is posterior)\n",
    "# y-axis is superior-inferior (+y is inferior), irrelevant to BISC\n",
    "# z-axis is left-right (+z is right)\n",
    "# x-axis aligns with BISC row index (higher row is posterior i.e. caudal)\n",
    "# y-axis is irrelevant to BISC orientation\n",
    "# z-axis aligns with BISC column index (higher column is right i.e. medial)"
   ]
  },
  {
   "cell_type": "code",
   "execution_count": 20,
   "metadata": {},
   "outputs": [],
   "source": [
    "rec_data = nwb.acquisition['ElectricalSeries']\n",
    "eeg_data = nwb.acquisition['EEG output pulses']"
   ]
  },
  {
   "cell_type": "code",
   "execution_count": 21,
   "metadata": {},
   "outputs": [],
   "source": [
    "\"\"\" check that BISC recordings and EEG have same time series properties \"\"\"\n",
    "assert rec_data.data.shape[0] == eeg_data.data.shape[1]\n",
    "assert rec_data.rate == eeg_data.rate\n",
    "assert rec_data.starting_time == eeg_data.starting_time == 0"
   ]
  },
  {
   "cell_type": "code",
   "execution_count": 22,
   "metadata": {},
   "outputs": [],
   "source": [
    "\"\"\" fetch the data arrays \"\"\"\n",
    "voltage_data = np.array(rec_data.data).T\n",
    "\n",
    "stim_pulses = eeg_data.data[0]\n",
    "artifact_pulses = eeg_data.data[1]\n",
    "sync_pulses = eeg_data.data[2]\n",
    "\n",
    "t = np.arange(0, voltage_data.shape[1])*(1/rec_data.rate)"
   ]
  },
  {
   "cell_type": "markdown",
   "metadata": {},
   "source": [
    "Please modify the following variables as needed: <br>\n",
    "- `(r, c)`: Row and column that defines which BISC channel to plot (`r` and `c` are integers from 0 to 15)\n",
    "- `(t0, t1)`: Time segment to plot (unit in seconds)"
   ]
  },
  {
   "cell_type": "code",
   "execution_count": 23,
   "metadata": {},
   "outputs": [],
   "source": [
    "\"\"\" pick what to plot \"\"\" \n",
    "# pick which channel to plot\n",
    "r, c = 3, 5 # pick both from (0, 1, 2, ..., 15)\n",
    "\n",
    "# pick which time segment to plot\n",
    "t0, t1 = 1, 2 # (s)"
   ]
  },
  {
   "cell_type": "code",
   "execution_count": 24,
   "metadata": {},
   "outputs": [
    {
     "data": {
      "text/plain": [
       "Text(0.5, 1.0, 'Single Channel (Address: row 3, col 5), Raw Data Example')"
      ]
     },
     "execution_count": 24,
     "metadata": {},
     "output_type": "execute_result"
    },
    {
     "data": {
      "image/png": "[encoded data removed]",
      "text/plain": [
       "<Figure size 800x500 with 3 Axes>"
      ]
     },
     "metadata": {},
     "output_type": "display_data"
    }
   ],
   "source": [
    "\"\"\" plot a sample channel \"\"\"\n",
    "fig, ax = plt.subplots(3, 1, figsize=(8, 5), sharex=True,\n",
    "                       gridspec_kw={'height_ratios': [3, 1, 1]})\n",
    "\n",
    "ch = 16*r + c\n",
    "ch_data = voltage_data[ch,:]\n",
    "\n",
    "i0 = np.where(t > t0)[0][0]\n",
    "i1 = np.where(t > t1)[0][0]\n",
    "\n",
    "ax[0].set_xlim(t0, t1)\n",
    "\n",
    "ch = 16*10 + 10\n",
    "ax[0].plot(t[i0:i1], ch_data[i0:i1]/1e-3)\n",
    "ax[1].plot(t[i0:i1], stim_pulses [i0:i1])\n",
    "ax[2].plot(t[i0:i1], artifact_pulses [i0:i1])\n",
    "ax[2].plot(t[i0:i1], sync_pulses [i0:i1])\n",
    "\n",
    "ax[0].set_ylabel('BISC Recording (mV)')\n",
    "ax[1].set_ylabel('EEG Stim\\n(mA)')\n",
    "ax[2].set_ylabel('EEG-to-BISC\\nSync Pulses\\n(a.u.)')\n",
    "ax[2].set_xlabel('Time (s)')\n",
    "\n",
    "ax[0].set_title(f'Single Channel (Address: row {r}, col {c}), Raw Data Example')"
   ]
  }
 ],
 "metadata": {
  "kernelspec": {
   "display_name": ".venv",
   "language": "python",
   "name": "python3"
  },
  "language_info": {
   "codemirror_mode": {
    "name": "ipython",
    "version": 3
   },
   "file_extension": ".py",
   "mimetype": "text/x-python",
   "name": "python",
   "nbconvert_exporter": "python",
   "pygments_lexer": "ipython3",
   "version": "3.10.0"
  }
 },
 "nbformat": 4,
 "nbformat_minor": 2
}
